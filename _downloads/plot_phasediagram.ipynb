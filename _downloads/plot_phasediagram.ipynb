{
  "cells": [
    {
      "cell_type": "code",
      "execution_count": null,
      "metadata": {
        "collapsed": false
      },
      "outputs": [],
      "source": [
        "%matplotlib inline"
      ]
    },
    {
      "cell_type": "markdown",
      "metadata": {},
      "source": [
        "\n\nplot phase diagram and \n==============================\n\nThis is just a test\n\n"
      ]
    },
    {
      "cell_type": "code",
      "execution_count": null,
      "metadata": {
        "collapsed": false
      },
      "outputs": [],
      "source": [
        "# In[ ]:\n\nfrom pymatgen import MPRester, Composition, Element\nfrom pymatgen.io.vasp.outputs import Vasprun\nfrom pymatgen.entries.compatibility import MaterialsProjectCompatibility\nfrom pymatgen.phasediagram.maker import PhaseDiagram\nfrom pymatgen.phasediagram.analyzer import PDAnalyzer\nfrom pymatgen.phasediagram.plotter import PDPlotter\nfrom pymatgen.util.plotting_utils import get_publication_quality_plot\nimport json\nimport re\nimport palettable\nimport matplotlib as mpl\n\nv = Vasprun(\"./vasprun.xml\")\n#entry = v.get_computed_entry(inc_structure=True)\nentry = v.get_computed_entry()\n\nm = MPRester(\"g8u7XE1HNSpaI2c3\")\nentries = m.get_entries_in_chemsys([\"Li\", \"O\",\"Br\"]) # pass in a list of elements in your material\n\n#compatibility = MaterialsProjectCompatibility()\n#entry = compatibility.process_entry(entry)\n#allentries = compatibility.process_entries([entry] + entries)\n#comp = MaterialsProjectCompatibility()\n#entry = comp.process_entry(entry)\n#all_entries = comp.process_entries(entries + [entry])\n#allentries = entries\nallentries = [entry] + entries\n\npd = PhaseDiagram(allentries)\n#plotter = PDPlotter(pd,)\nplotter = PDPlotter(pd,show_unstable=True)\n\nplotter.write_image(\"Figure_2.svg\", image_format=\"svg\", label_stable=True,\n                    label_unstable=True, ordering=None,\n                    energy_colormap=None, process_attributes=False)\n\n#plotter.show()\n# I suppose you need the energy above hull for your material\npda = PDAnalyzer(pd)\nprint(\"Energy above hull is %.2f eV/atom\" % pda.get_e_above_hull(entry))\nanalyzer = PDAnalyzer(pd)\nehull = analyzer.get_e_above_hull(entry)\nprint((\"The energy above hull of * is %.3f eV/atom.\" % ehull))\n\nli_entries = [e for e in allentries if e.composition.reduced_formula == \"Li\"]\nuli0 = min(li_entries, key=lambda e: e.energy_per_atom).energy_per_atom\n\nel_profile = analyzer.get_element_profile(Element(\"Li\"), entry.composition)\nfor i, d in enumerate(el_profile):\n    voltage = -(d[\"chempot\"] - uli0)\n    print((\"Voltage: %s V\" % voltage))\n    print((d[\"reaction\"]))\n    print(\"\")\n    \n# plot \n# Some matplotlib settings to improve the look of the plot.\nmpl.rcParams['axes.linewidth']=3\nmpl.rcParams['lines.markeredgewidth']=4\nmpl.rcParams['lines.linewidth']=3\nmpl.rcParams['lines.markersize']=15\nmpl.rcParams['xtick.major.width']=3\nmpl.rcParams['xtick.major.size']=8\nmpl.rcParams['xtick.minor.width']=3\nmpl.rcParams['xtick.minor.size']=4\nmpl.rcParams['ytick.major.width']=3\nmpl.rcParams['ytick.major.size']=8\nmpl.rcParams['ytick.minor.width']=3\nmpl.rcParams['ytick.minor.size']=4\n\n# Plot of Li uptake per formula unit (f.u.) of Li6PS5Cl against voltage vs Li/Li+.\ncolors = palettable.colorbrewer.qualitative.Set1_9.mpl_colors\nplt = get_publication_quality_plot(14, 8)\n\nfor i, d in enumerate(el_profile):\n    v = - (d[\"chempot\"] - uli0)\n    if i != 0:\n        plt.plot([x2, x2], [y1, 100*d[\"evolution\"]/32 ], 'k', linewidth=3)\n    x1 = v\n    y1 =100* d[\"evolution\"] /32\n    if i != len(el_profile) - 1:\n        x2 = - (el_profile[i + 1][\"chempot\"] - uli0)\n    else:\n        x2 = 5.0\n        \n    if i in [0, 4, 5, 7]:\n        products = [re.sub(r\"(\\d+)\", r\"$_{\\1}$\", p.reduced_formula)                     \n                    for p in d[\"reaction\"].products if p.reduced_formula != \"Li\"]\n\n        plt.annotate(\", \".join(products), xy=(v + 0.5, y1 + 7), \n                     fontsize=30, color=colors[0])\n        \n        plt.plot([x1, x2], [y1, y1], color=colors[0], linewidth=5)\n    else:\n        plt.plot([x1, x2], [y1, y1], 'k', linewidth=3)  \nplt.xlim((0, 4.0))\nplt.ylim((-100,40))\nplt.xlabel(\"Voltage vs Li/Li$^+$ (V)\")\nplt.ylabel(\"Li uptake (%)\")\nplt.gca().get_xaxis().set_tick_params(direction='out')\nplt.gca().get_yaxis().set_tick_params(direction='out')\nplt.gca().xaxis.set_ticks_position('bottom')\nplt.gca().yaxis.set_ticks_position('left')\nplt.tight_layout()\n#plt.savefig('Figure_V.png')\nplt.show()"
      ]
    }
  ],
  "metadata": {
    "kernelspec": {
      "display_name": "Python 3",
      "language": "python",
      "name": "python3"
    },
    "language_info": {
      "codemirror_mode": {
        "name": "ipython",
        "version": 3
      },
      "file_extension": ".py",
      "mimetype": "text/x-python",
      "name": "python",
      "nbconvert_exporter": "python",
      "pygments_lexer": "ipython3",
      "version": "3.6.3"
    }
  },
  "nbformat": 4,
  "nbformat_minor": 0
}
{
  "nbformat_minor": 0, 
  "nbformat": 4, 
  "cells": [
    {
      "execution_count": null, 
      "cell_type": "code", 
      "source": [
        "%matplotlib inline"
      ], 
      "outputs": [], 
      "metadata": {
        "collapsed": false
      }
    }, 
    {
      "source": [
        "\nPlotting simple sin function\n============================\n\nA simple example of the plot of a sin function\nin order to test the autonomy of the gallery.\n\nTo illustrate how to insert maths in example descriptions,\nit corresponds mathematically to the function:\n\n\\begin{align}x \\rightarrow \\sin(x)\\end{align}\n\nHere the function $\\sin$ is evaluated at each point the variable\n$x$ is defined.\n\nNote that ``sphinx-gallery`` automatically creates labels for each example from\nits filename. You can thus refer to it from any part of the documentation,\nincluding from other examples, as here\n\n.. seealso::\n    `sphx_glr_auto_examples_sin_func_plot_sin_black_background.py` for a\n    fancier plot\n\n"
      ], 
      "cell_type": "markdown", 
      "metadata": {}
    }, 
    {
      "execution_count": null, 
      "cell_type": "code", 
      "source": [
        "# Code source: \u00d3scar N\u00e1jera\n# License: BSD 3 clause\n\nimport numpy as np\nimport matplotlib.pyplot as plt\n\nx = np.linspace(0, 2 * np.pi, 100)\ny = np.sin(x)\n\nplt.plot(x, y)\nplt.xlabel('$x$')\nplt.ylabel('$\\sin(x)$')\nplt.show()"
      ], 
      "outputs": [], 
      "metadata": {
        "collapsed": false
      }
    }
  ], 
  "metadata": {
    "kernelspec": {
      "display_name": "Python 2", 
      "name": "python2", 
      "language": "python"
    }, 
    "language_info": {
      "mimetype": "text/x-python", 
      "nbconvert_exporter": "python", 
      "name": "python", 
      "file_extension": ".py", 
      "version": "2.7.12", 
      "pygments_lexer": "ipython2", 
      "codemirror_mode": {
        "version": 2, 
        "name": "ipython"
      }
    }
  }
}
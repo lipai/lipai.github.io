{
  "nbformat_minor": 0, 
  "nbformat": 4, 
  "cells": [
    {
      "execution_count": null, 
      "cell_type": "code", 
      "source": [
        "%matplotlib inline"
      ], 
      "outputs": [], 
      "metadata": {
        "collapsed": false
      }
    }, 
    {
      "source": [
        "\nPlotting simple sin function on a black background\n==================================================\n\nA simple example of the plot of a sin function on a black background\n\n\n"
      ], 
      "cell_type": "markdown", 
      "metadata": {}
    }, 
    {
      "execution_count": null, 
      "cell_type": "code", 
      "source": [
        "# Code source: Lo\u00efc Est\u00e8ve\n# License: BSD 3 clause\n\nimport numpy as np\nimport matplotlib.pyplot as plt\n\nbg_color = 'black'\nfg_color = 'white'\n\nfig = plt.figure(facecolor=bg_color, edgecolor=fg_color)\naxes = plt.axes((0.1, 0.1, 0.8, 0.8), axisbg=bg_color)\naxes.xaxis.set_tick_params(color=fg_color, labelcolor=fg_color)\naxes.yaxis.set_tick_params(color=fg_color, labelcolor=fg_color)\nfor spine in axes.spines.values():\n    spine.set_color(fg_color)\n\nx = np.linspace(0, 2 * np.pi, 100)\ny = np.sin(x)\n\nplt.plot(x, y, 'cyan', axes=axes)\nplt.xlabel('$x$', color=fg_color)\nplt.ylabel('$\\sin(x)$', color=fg_color)\nplt.show()"
      ], 
      "outputs": [], 
      "metadata": {
        "collapsed": false
      }
    }
  ], 
  "metadata": {
    "kernelspec": {
      "display_name": "Python 2", 
      "name": "python2", 
      "language": "python"
    }, 
    "language_info": {
      "mimetype": "text/x-python", 
      "nbconvert_exporter": "python", 
      "name": "python", 
      "file_extension": ".py", 
      "version": "2.7.12", 
      "pygments_lexer": "ipython2", 
      "codemirror_mode": {
        "version": 2, 
        "name": "ipython"
      }
    }
  }
}
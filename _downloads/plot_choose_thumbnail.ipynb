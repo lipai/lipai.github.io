{
  "cells": [
    {
      "cell_type": "code",
      "execution_count": null,
      "metadata": {
        "collapsed": false
      },
      "outputs": [],
      "source": [
        "%matplotlib inline"
      ]
    },
    {
      "cell_type": "markdown",
      "metadata": {},
      "source": [
        "\nChoosing the thumbnail figure\n=============================\n\nAn example to demonstrate how to choose which figure is displayed as the\nthumbnail if the example generates more than one figure. This is done by\nspecifying the keyword-value pair ``sphinx_gallery_thumbnail_number = 2`` as a\ncomment somewhere below the docstring in the example file.\n\n"
      ]
    },
    {
      "cell_type": "code",
      "execution_count": null,
      "metadata": {
        "collapsed": false
      },
      "outputs": [],
      "source": [
        "# Code source: \u00d3scar N\u00e1jera\n# License: BSD 3 clause\n\nimport numpy as np\nimport matplotlib.pyplot as plt\n\n\ndef main():\n    x = np.linspace(-1, 2, 100)\n    y = np.exp(x)\n\n    plt.figure()\n    plt.plot(x, y)\n    plt.xlabel('$x$')\n    plt.ylabel('$\\exp(x)$')\n\n    # The next line sets the thumbnail for the second figure in the gallery\n    #   (plot with negative exponential in orange)\n    # sphinx_gallery_thumbnail_number = 2\n    plt.figure()\n    plt.plot(x, -np.exp(-x), color='orange', linewidth=4)\n    plt.xlabel('$x$')\n    plt.ylabel('$-\\exp(-x)$')\n\n    plt.show()\n\nif __name__ == '__main__':\n    main()"
      ]
    }
  ],
  "metadata": {
    "kernelspec": {
      "display_name": "Python 3",
      "language": "python",
      "name": "python3"
    },
    "language_info": {
      "codemirror_mode": {
        "name": "ipython",
        "version": 3
      },
      "file_extension": ".py",
      "mimetype": "text/x-python",
      "name": "python",
      "nbconvert_exporter": "python",
      "pygments_lexer": "ipython3",
      "version": "3.6.3"
    }
  },
  "nbformat": 4,
  "nbformat_minor": 0
}
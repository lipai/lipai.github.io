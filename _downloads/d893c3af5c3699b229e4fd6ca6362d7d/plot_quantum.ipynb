{
  "cells": [
    {
      "cell_type": "code",
      "execution_count": null,
      "metadata": {
        "collapsed": false
      },
      "outputs": [],
      "source": [
        "%matplotlib inline"
      ]
    },
    {
      "cell_type": "markdown",
      "metadata": {},
      "source": [
        "\n# Some Quantum Mechanics, filling an atomic orbital\n\nConsidering an atomic single orbital and how to fill it by use of the\nchemical potential. This system has a four element basis, $B =\n\\{ \\lvert \\emptyset \\rangle, \\lvert \\uparrow \\rangle, \\lvert\n\\downarrow \\rangle, \\lvert \\uparrow\\downarrow \\rangle \\}$, that is the\nempty orbital, one spin up electron, one spin down electron and the\nfilled orbital.\n\nThe environment of the orbital is set up by an energy cost for\noccupying the orbital, that is $\\epsilon$ and when both\nelectrons meet a contact interaction corresponding to the Coulomb\nrepulsion $U$. Finally the chemical potential $\\mu$ is\nwhat allows in the Grand canonical picture, to fill up our atomic\norbital from a reservoir of electrons.\n\n The the simple Hamiltonian to model this system is given by:\n\n\\begin{align}\\mathcal{H} =\n        \\sum_{\\sigma=\\uparrow,\\downarrow} \\epsilon c^\\dagger_\\sigma c_\\sigma\n       + Un_\\uparrow n_\\downarrow - \\mu \\hat{N}\\end{align}\n\nHere $c^\\dagger,c$ creation and annihilation operators,\n$n=c^\\dagger c$, and\n$\\hat{N}=n_\\uparrow+n_\\downarrow$. This Hamiltonian is diagonal\nin the basis of particle number we have chosen earlier, as the basis\nelements are also eigenvectors.\n\n\\begin{align}\\mathcal{H} \\lvert \\emptyset \\rangle &= 0 \\\\\n   \\mathcal{H} \\lvert \\uparrow  \\rangle &= (\\epsilon - \\mu) | \\uparrow  \\rangle \\\\\n   \\mathcal{H} \\lvert \\downarrow  \\rangle &= (\\epsilon - \\mu) | \\downarrow  \\rangle \\\\\n   \\mathcal{H} \\lvert \\uparrow\\downarrow \\rangle &= (2\\epsilon - 2\\mu +U) \\lvert \\uparrow\\downarrow \\rangle\\end{align}\n\nIt is easy to see, that the system will prefer to be empty if\n$\\mu \\in [0,\\epsilon)$, be single occupied if $\\mu \\in (\\epsilon, \\epsilon +U)$\nand doubly occupied if $\\mu > \\epsilon +U$.\n\nFor a more rigorous treatment, the partition function has to be\ncalculated and then the expected particle number can be\nfound. Introducing a new variable $\\xi = \\epsilon - \\mu$, and\n$\\beta$ corresponding to the inverse temperature of the system.\n\n\\begin{align}\\mathcal{Z} &= Tr(e^{-\\beta \\mathcal{H}}) = 1 + 2e^{-\\beta\\xi} + e^{-\\beta(2\\xi + U)} \\\\\n   \\langle \\hat{N} \\rangle &= \\frac{1}{\\beta} \\frac{\\partial}{\\partial \\mu} \\ln \\mathcal{Z}\\end{align}\n"
      ]
    },
    {
      "cell_type": "code",
      "execution_count": null,
      "metadata": {
        "collapsed": false
      },
      "outputs": [],
      "source": [
        "# Code source: \u00d3scar N\u00e1jera\n# License: BSD 3 clause\n\nimport matplotlib.pyplot as plt\nimport numpy as np\nmu = np.linspace(0, 3, 800)\nfor b in [10, 20, 30]:\n    n = 2 * (np.exp(b * (mu - 1)) + np.exp(b * (2 * mu - 3))) / \\\n        (1 + np.exp(b * (mu - 1)) * (2 + np.exp(b * (mu - 2))))\n    plt.plot(mu, n, label=r\"$\\beta={0}$\".format(b))\nplt.xlabel(r'$\\mu$ ($\\epsilon=1$, $U=1$)')\nplt.ylabel(r'$\\langle N \\rangle=\\langle n_\\uparrow \\rangle+\\langle n_\\downarrow\\rangle$')\nplt.legend(loc=0)\nplt.show()"
      ]
    },
    {
      "cell_type": "markdown",
      "metadata": {},
      "source": [
        "test\n\n"
      ]
    },
    {
      "cell_type": "code",
      "execution_count": null,
      "metadata": {
        "collapsed": false
      },
      "outputs": [],
      "source": [
        "print(\"lipai's notebook\")"
      ]
    }
  ],
  "metadata": {
    "kernelspec": {
      "display_name": "Python 3",
      "language": "python",
      "name": "python3"
    },
    "language_info": {
      "codemirror_mode": {
        "name": "ipython",
        "version": 3
      },
      "file_extension": ".py",
      "mimetype": "text/x-python",
      "name": "python",
      "nbconvert_exporter": "python",
      "pygments_lexer": "ipython3",
      "version": "3.8.5"
    }
  },
  "nbformat": 4,
  "nbformat_minor": 0
}